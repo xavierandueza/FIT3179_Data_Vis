{
 "cells": [
  {
   "cell_type": "code",
   "execution_count": 1,
   "metadata": {},
   "outputs": [],
   "source": [
    "# Load libraries\n",
    "import pandas as pd"
   ]
  },
  {
   "cell_type": "code",
   "execution_count": 7,
   "metadata": {},
   "outputs": [],
   "source": [
    "notLong = pd.read_csv(\"SpendPerStudent.csv\")"
   ]
  },
  {
   "cell_type": "code",
   "execution_count": 8,
   "metadata": {},
   "outputs": [],
   "source": [
    "# Assuming your dataframe is called \"notLong\"\n",
    "long_df = pd.melt(notLong, id_vars=['Country_Name', 'Indicator_Name', 'Region', 'Income_Group'], var_name='Year', value_name='Value')\n",
    "\n",
    "# The resulting dataframe will have the following columns:\n",
    "# Country_Name, Indicator_Name, Region, Income_Group, Year, Value"
   ]
  },
  {
   "cell_type": "code",
   "execution_count": 9,
   "metadata": {},
   "outputs": [],
   "source": [
    "# Save my long df as a csv\n",
    "long_df.to_csv(\"long_SpendPerStudent.csv\")"
   ]
  }
 ],
 "metadata": {
  "kernelspec": {
   "display_name": "FYP",
   "language": "python",
   "name": "python3"
  },
  "language_info": {
   "codemirror_mode": {
    "name": "ipython",
    "version": 3
   },
   "file_extension": ".py",
   "mimetype": "text/x-python",
   "name": "python",
   "nbconvert_exporter": "python",
   "pygments_lexer": "ipython3",
   "version": "3.11.5"
  }
 },
 "nbformat": 4,
 "nbformat_minor": 2
}
